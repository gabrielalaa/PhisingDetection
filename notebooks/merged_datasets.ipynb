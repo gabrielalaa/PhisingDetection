{
 "cells": [
  {
   "metadata": {},
   "cell_type": "markdown",
   "source": "# Setup",
   "id": "3b53147908b44a6"
  },
  {
   "metadata": {},
   "cell_type": "markdown",
   "source": "## Merge both datasets",
   "id": "3acd2c6d516933d3"
  },
  {
   "metadata": {
    "ExecuteTime": {
     "end_time": "2025-06-12T19:26:01.802058Z",
     "start_time": "2025-06-12T19:26:01.795813Z"
    }
   },
   "cell_type": "code",
   "source": [
    "# Import packages\n",
    "import seaborn as sns\n",
    "import pandas as pd\n",
    "import numpy as np\n",
    "import matplotlib.pyplot as plt\n",
    "\n",
    "from sklearn.model_selection import train_test_split\n",
    "from sklearn.preprocessing import StandardScaler\n",
    "from sklearn.linear_model import LogisticRegression\n",
    "from sklearn.neighbors import KNeighborsClassifier\n",
    "from sklearn.tree import DecisionTreeClassifier\n",
    "from sklearn.ensemble import RandomForestClassifier\n",
    "from sklearn.metrics import classification_report, accuracy_score, precision_score, recall_score, f1_score, ConfusionMatrixDisplay"
   ],
   "id": "843eeb68c8dd61cf",
   "outputs": [],
   "execution_count": 7
  },
  {
   "metadata": {
    "ExecuteTime": {
     "end_time": "2025-06-12T19:26:04.802370Z",
     "start_time": "2025-06-12T19:26:04.311331Z"
    }
   },
   "cell_type": "code",
   "source": [
    "# Load the datasets\n",
    "df1 = pd.read_csv(\"../data/old_training_dataset.csv\")\n",
    "df2 = pd.read_csv(\"../data/new_training_dataset.csv\")"
   ],
   "id": "86b256613ab06e3d",
   "outputs": [],
   "execution_count": 8
  },
  {
   "metadata": {
    "ExecuteTime": {
     "end_time": "2025-06-12T19:26:05.584947Z",
     "start_time": "2025-06-12T19:26:05.574139Z"
    }
   },
   "cell_type": "code",
   "source": "df1.head()",
   "id": "88455aef70ecb03c",
   "outputs": [
    {
     "data": {
      "text/plain": [
       "   having_IP_Address  URL_Length  Shortining_Service  having_At_Symbol  \\\n",
       "0                 -1           1                   1                 1   \n",
       "1                  1           1                   1                 1   \n",
       "2                  1           0                   1                 1   \n",
       "3                  1           0                   1                 1   \n",
       "4                  1           0                  -1                 1   \n",
       "\n",
       "   double_slash_redirecting  Prefix_Suffix  having_Sub_Domain  SSLfinal_State  \\\n",
       "0                        -1             -1                 -1              -1   \n",
       "1                         1             -1                  0               1   \n",
       "2                         1             -1                 -1              -1   \n",
       "3                         1             -1                 -1              -1   \n",
       "4                         1             -1                  1               1   \n",
       "\n",
       "   Domain_registeration_length  Favicon  ...  popUpWidnow  Iframe  \\\n",
       "0                           -1        1  ...            1       1   \n",
       "1                           -1        1  ...            1       1   \n",
       "2                           -1        1  ...            1       1   \n",
       "3                            1        1  ...            1       1   \n",
       "4                           -1        1  ...           -1       1   \n",
       "\n",
       "   age_of_domain  DNSRecord  web_traffic  Page_Rank  Google_Index  \\\n",
       "0             -1         -1           -1         -1             1   \n",
       "1             -1         -1            0         -1             1   \n",
       "2              1         -1            1         -1             1   \n",
       "3             -1         -1            1         -1             1   \n",
       "4             -1         -1            0         -1             1   \n",
       "\n",
       "   Links_pointing_to_page  Statistical_report  Result  \n",
       "0                       1                  -1      -1  \n",
       "1                       1                   1      -1  \n",
       "2                       0                  -1      -1  \n",
       "3                      -1                   1      -1  \n",
       "4                       1                   1       1  \n",
       "\n",
       "[5 rows x 31 columns]"
      ],
      "text/html": [
       "<div>\n",
       "<style scoped>\n",
       "    .dataframe tbody tr th:only-of-type {\n",
       "        vertical-align: middle;\n",
       "    }\n",
       "\n",
       "    .dataframe tbody tr th {\n",
       "        vertical-align: top;\n",
       "    }\n",
       "\n",
       "    .dataframe thead th {\n",
       "        text-align: right;\n",
       "    }\n",
       "</style>\n",
       "<table border=\"1\" class=\"dataframe\">\n",
       "  <thead>\n",
       "    <tr style=\"text-align: right;\">\n",
       "      <th></th>\n",
       "      <th>having_IP_Address</th>\n",
       "      <th>URL_Length</th>\n",
       "      <th>Shortining_Service</th>\n",
       "      <th>having_At_Symbol</th>\n",
       "      <th>double_slash_redirecting</th>\n",
       "      <th>Prefix_Suffix</th>\n",
       "      <th>having_Sub_Domain</th>\n",
       "      <th>SSLfinal_State</th>\n",
       "      <th>Domain_registeration_length</th>\n",
       "      <th>Favicon</th>\n",
       "      <th>...</th>\n",
       "      <th>popUpWidnow</th>\n",
       "      <th>Iframe</th>\n",
       "      <th>age_of_domain</th>\n",
       "      <th>DNSRecord</th>\n",
       "      <th>web_traffic</th>\n",
       "      <th>Page_Rank</th>\n",
       "      <th>Google_Index</th>\n",
       "      <th>Links_pointing_to_page</th>\n",
       "      <th>Statistical_report</th>\n",
       "      <th>Result</th>\n",
       "    </tr>\n",
       "  </thead>\n",
       "  <tbody>\n",
       "    <tr>\n",
       "      <th>0</th>\n",
       "      <td>-1</td>\n",
       "      <td>1</td>\n",
       "      <td>1</td>\n",
       "      <td>1</td>\n",
       "      <td>-1</td>\n",
       "      <td>-1</td>\n",
       "      <td>-1</td>\n",
       "      <td>-1</td>\n",
       "      <td>-1</td>\n",
       "      <td>1</td>\n",
       "      <td>...</td>\n",
       "      <td>1</td>\n",
       "      <td>1</td>\n",
       "      <td>-1</td>\n",
       "      <td>-1</td>\n",
       "      <td>-1</td>\n",
       "      <td>-1</td>\n",
       "      <td>1</td>\n",
       "      <td>1</td>\n",
       "      <td>-1</td>\n",
       "      <td>-1</td>\n",
       "    </tr>\n",
       "    <tr>\n",
       "      <th>1</th>\n",
       "      <td>1</td>\n",
       "      <td>1</td>\n",
       "      <td>1</td>\n",
       "      <td>1</td>\n",
       "      <td>1</td>\n",
       "      <td>-1</td>\n",
       "      <td>0</td>\n",
       "      <td>1</td>\n",
       "      <td>-1</td>\n",
       "      <td>1</td>\n",
       "      <td>...</td>\n",
       "      <td>1</td>\n",
       "      <td>1</td>\n",
       "      <td>-1</td>\n",
       "      <td>-1</td>\n",
       "      <td>0</td>\n",
       "      <td>-1</td>\n",
       "      <td>1</td>\n",
       "      <td>1</td>\n",
       "      <td>1</td>\n",
       "      <td>-1</td>\n",
       "    </tr>\n",
       "    <tr>\n",
       "      <th>2</th>\n",
       "      <td>1</td>\n",
       "      <td>0</td>\n",
       "      <td>1</td>\n",
       "      <td>1</td>\n",
       "      <td>1</td>\n",
       "      <td>-1</td>\n",
       "      <td>-1</td>\n",
       "      <td>-1</td>\n",
       "      <td>-1</td>\n",
       "      <td>1</td>\n",
       "      <td>...</td>\n",
       "      <td>1</td>\n",
       "      <td>1</td>\n",
       "      <td>1</td>\n",
       "      <td>-1</td>\n",
       "      <td>1</td>\n",
       "      <td>-1</td>\n",
       "      <td>1</td>\n",
       "      <td>0</td>\n",
       "      <td>-1</td>\n",
       "      <td>-1</td>\n",
       "    </tr>\n",
       "    <tr>\n",
       "      <th>3</th>\n",
       "      <td>1</td>\n",
       "      <td>0</td>\n",
       "      <td>1</td>\n",
       "      <td>1</td>\n",
       "      <td>1</td>\n",
       "      <td>-1</td>\n",
       "      <td>-1</td>\n",
       "      <td>-1</td>\n",
       "      <td>1</td>\n",
       "      <td>1</td>\n",
       "      <td>...</td>\n",
       "      <td>1</td>\n",
       "      <td>1</td>\n",
       "      <td>-1</td>\n",
       "      <td>-1</td>\n",
       "      <td>1</td>\n",
       "      <td>-1</td>\n",
       "      <td>1</td>\n",
       "      <td>-1</td>\n",
       "      <td>1</td>\n",
       "      <td>-1</td>\n",
       "    </tr>\n",
       "    <tr>\n",
       "      <th>4</th>\n",
       "      <td>1</td>\n",
       "      <td>0</td>\n",
       "      <td>-1</td>\n",
       "      <td>1</td>\n",
       "      <td>1</td>\n",
       "      <td>-1</td>\n",
       "      <td>1</td>\n",
       "      <td>1</td>\n",
       "      <td>-1</td>\n",
       "      <td>1</td>\n",
       "      <td>...</td>\n",
       "      <td>-1</td>\n",
       "      <td>1</td>\n",
       "      <td>-1</td>\n",
       "      <td>-1</td>\n",
       "      <td>0</td>\n",
       "      <td>-1</td>\n",
       "      <td>1</td>\n",
       "      <td>1</td>\n",
       "      <td>1</td>\n",
       "      <td>1</td>\n",
       "    </tr>\n",
       "  </tbody>\n",
       "</table>\n",
       "<p>5 rows × 31 columns</p>\n",
       "</div>"
      ]
     },
     "execution_count": 9,
     "metadata": {},
     "output_type": "execute_result"
    }
   ],
   "execution_count": 9
  },
  {
   "metadata": {
    "ExecuteTime": {
     "end_time": "2025-06-12T19:26:07.216840Z",
     "start_time": "2025-06-12T19:26:07.207035Z"
    }
   },
   "cell_type": "code",
   "source": "df2.head()",
   "id": "882810dd22d45bc7",
   "outputs": [
    {
     "data": {
      "text/plain": [
       "   URLLength  DomainLength  IsDomainIP  TLD  URLSimilarityIndex  \\\n",
       "0         31            24           0  com               100.0   \n",
       "1         23            16           0   de               100.0   \n",
       "2         29            22           0   uk               100.0   \n",
       "3         26            19           0  com               100.0   \n",
       "4         33            26           0  org               100.0   \n",
       "\n",
       "   CharContinuationRate  TLDLegitimateProb  URLCharProb  TLDLength  \\\n",
       "0              1.000000           0.522907     0.061933          3   \n",
       "1              0.666667           0.032650     0.050207          2   \n",
       "2              0.866667           0.028555     0.064129          2   \n",
       "3              1.000000           0.522907     0.057606          3   \n",
       "4              1.000000           0.079963     0.059441          3   \n",
       "\n",
       "   NoOfSubDomain  ...  Pay  Crypto  HasCopyrightInfo  NoOfImage  NoOfCSS  \\\n",
       "0              1  ...    0       0                 1         34       20   \n",
       "1              1  ...    0       0                 1         50        9   \n",
       "2              2  ...    0       0                 1         10        2   \n",
       "3              1  ...    1       1                 1          3       27   \n",
       "4              1  ...    1       0                 1        244       15   \n",
       "\n",
       "   NoOfJS  NoOfSelfRef  NoOfEmptyRef  NoOfExternalRef  label  \n",
       "0      28          119             0              124      1  \n",
       "1       8           39             0              217      1  \n",
       "2       7           42             2                5      1  \n",
       "3      15           22             1               31      1  \n",
       "4      34           72             1               85      1  \n",
       "\n",
       "[5 rows x 52 columns]"
      ],
      "text/html": [
       "<div>\n",
       "<style scoped>\n",
       "    .dataframe tbody tr th:only-of-type {\n",
       "        vertical-align: middle;\n",
       "    }\n",
       "\n",
       "    .dataframe tbody tr th {\n",
       "        vertical-align: top;\n",
       "    }\n",
       "\n",
       "    .dataframe thead th {\n",
       "        text-align: right;\n",
       "    }\n",
       "</style>\n",
       "<table border=\"1\" class=\"dataframe\">\n",
       "  <thead>\n",
       "    <tr style=\"text-align: right;\">\n",
       "      <th></th>\n",
       "      <th>URLLength</th>\n",
       "      <th>DomainLength</th>\n",
       "      <th>IsDomainIP</th>\n",
       "      <th>TLD</th>\n",
       "      <th>URLSimilarityIndex</th>\n",
       "      <th>CharContinuationRate</th>\n",
       "      <th>TLDLegitimateProb</th>\n",
       "      <th>URLCharProb</th>\n",
       "      <th>TLDLength</th>\n",
       "      <th>NoOfSubDomain</th>\n",
       "      <th>...</th>\n",
       "      <th>Pay</th>\n",
       "      <th>Crypto</th>\n",
       "      <th>HasCopyrightInfo</th>\n",
       "      <th>NoOfImage</th>\n",
       "      <th>NoOfCSS</th>\n",
       "      <th>NoOfJS</th>\n",
       "      <th>NoOfSelfRef</th>\n",
       "      <th>NoOfEmptyRef</th>\n",
       "      <th>NoOfExternalRef</th>\n",
       "      <th>label</th>\n",
       "    </tr>\n",
       "  </thead>\n",
       "  <tbody>\n",
       "    <tr>\n",
       "      <th>0</th>\n",
       "      <td>31</td>\n",
       "      <td>24</td>\n",
       "      <td>0</td>\n",
       "      <td>com</td>\n",
       "      <td>100.0</td>\n",
       "      <td>1.000000</td>\n",
       "      <td>0.522907</td>\n",
       "      <td>0.061933</td>\n",
       "      <td>3</td>\n",
       "      <td>1</td>\n",
       "      <td>...</td>\n",
       "      <td>0</td>\n",
       "      <td>0</td>\n",
       "      <td>1</td>\n",
       "      <td>34</td>\n",
       "      <td>20</td>\n",
       "      <td>28</td>\n",
       "      <td>119</td>\n",
       "      <td>0</td>\n",
       "      <td>124</td>\n",
       "      <td>1</td>\n",
       "    </tr>\n",
       "    <tr>\n",
       "      <th>1</th>\n",
       "      <td>23</td>\n",
       "      <td>16</td>\n",
       "      <td>0</td>\n",
       "      <td>de</td>\n",
       "      <td>100.0</td>\n",
       "      <td>0.666667</td>\n",
       "      <td>0.032650</td>\n",
       "      <td>0.050207</td>\n",
       "      <td>2</td>\n",
       "      <td>1</td>\n",
       "      <td>...</td>\n",
       "      <td>0</td>\n",
       "      <td>0</td>\n",
       "      <td>1</td>\n",
       "      <td>50</td>\n",
       "      <td>9</td>\n",
       "      <td>8</td>\n",
       "      <td>39</td>\n",
       "      <td>0</td>\n",
       "      <td>217</td>\n",
       "      <td>1</td>\n",
       "    </tr>\n",
       "    <tr>\n",
       "      <th>2</th>\n",
       "      <td>29</td>\n",
       "      <td>22</td>\n",
       "      <td>0</td>\n",
       "      <td>uk</td>\n",
       "      <td>100.0</td>\n",
       "      <td>0.866667</td>\n",
       "      <td>0.028555</td>\n",
       "      <td>0.064129</td>\n",
       "      <td>2</td>\n",
       "      <td>2</td>\n",
       "      <td>...</td>\n",
       "      <td>0</td>\n",
       "      <td>0</td>\n",
       "      <td>1</td>\n",
       "      <td>10</td>\n",
       "      <td>2</td>\n",
       "      <td>7</td>\n",
       "      <td>42</td>\n",
       "      <td>2</td>\n",
       "      <td>5</td>\n",
       "      <td>1</td>\n",
       "    </tr>\n",
       "    <tr>\n",
       "      <th>3</th>\n",
       "      <td>26</td>\n",
       "      <td>19</td>\n",
       "      <td>0</td>\n",
       "      <td>com</td>\n",
       "      <td>100.0</td>\n",
       "      <td>1.000000</td>\n",
       "      <td>0.522907</td>\n",
       "      <td>0.057606</td>\n",
       "      <td>3</td>\n",
       "      <td>1</td>\n",
       "      <td>...</td>\n",
       "      <td>1</td>\n",
       "      <td>1</td>\n",
       "      <td>1</td>\n",
       "      <td>3</td>\n",
       "      <td>27</td>\n",
       "      <td>15</td>\n",
       "      <td>22</td>\n",
       "      <td>1</td>\n",
       "      <td>31</td>\n",
       "      <td>1</td>\n",
       "    </tr>\n",
       "    <tr>\n",
       "      <th>4</th>\n",
       "      <td>33</td>\n",
       "      <td>26</td>\n",
       "      <td>0</td>\n",
       "      <td>org</td>\n",
       "      <td>100.0</td>\n",
       "      <td>1.000000</td>\n",
       "      <td>0.079963</td>\n",
       "      <td>0.059441</td>\n",
       "      <td>3</td>\n",
       "      <td>1</td>\n",
       "      <td>...</td>\n",
       "      <td>1</td>\n",
       "      <td>0</td>\n",
       "      <td>1</td>\n",
       "      <td>244</td>\n",
       "      <td>15</td>\n",
       "      <td>34</td>\n",
       "      <td>72</td>\n",
       "      <td>1</td>\n",
       "      <td>85</td>\n",
       "      <td>1</td>\n",
       "    </tr>\n",
       "  </tbody>\n",
       "</table>\n",
       "<p>5 rows × 52 columns</p>\n",
       "</div>"
      ]
     },
     "execution_count": 10,
     "metadata": {},
     "output_type": "execute_result"
    }
   ],
   "execution_count": 10
  },
  {
   "metadata": {},
   "cell_type": "markdown",
   "source": [
    "There are a few features that appear to be similar based on their names.\n",
    "\n",
    "We can expect some issues because the older dataset has only binary features. For example, the first visible one is the 'URL_Length' which in the newer dataset has values such as 31, 23, 29... However, we plan to check the final distribution to see if normalization/scaling is needed."
   ],
   "id": "e9b5e3c75e391c41"
  },
  {
   "metadata": {
    "ExecuteTime": {
     "end_time": "2025-06-12T19:26:09.396577Z",
     "start_time": "2025-06-12T19:26:09.374176Z"
    }
   },
   "cell_type": "code",
   "source": [
    "# Rename columns in df2 to match df1\n",
    "df2 = df2.rename(columns={\n",
    "    \"URLLength\": \"URL_Length\",\n",
    "    \"DomainLength\": \"Domain_registeration_length\",\n",
    "    \"NoOfSubDomain\": \"having_Sub_Domain\",\n",
    "    \"HasFavicon\": \"Favicon\",\n",
    "    \"NoOfURLRedirect\": \"Redirect\",\n",
    "    \"NoOfiFrame\": \"Iframe\",\n",
    "    'label': 'Result'\n",
    "})"
   ],
   "id": "120f1629fd6c0610",
   "outputs": [],
   "execution_count": 11
  },
  {
   "metadata": {
    "ExecuteTime": {
     "end_time": "2025-06-12T19:26:10.947178Z",
     "start_time": "2025-06-12T19:26:10.937965Z"
    }
   },
   "cell_type": "code",
   "source": "df2.head()",
   "id": "8f852b87babdf487",
   "outputs": [
    {
     "data": {
      "text/plain": [
       "   URL_Length  Domain_registeration_length  IsDomainIP  TLD  \\\n",
       "0          31                           24           0  com   \n",
       "1          23                           16           0   de   \n",
       "2          29                           22           0   uk   \n",
       "3          26                           19           0  com   \n",
       "4          33                           26           0  org   \n",
       "\n",
       "   URLSimilarityIndex  CharContinuationRate  TLDLegitimateProb  URLCharProb  \\\n",
       "0               100.0              1.000000           0.522907     0.061933   \n",
       "1               100.0              0.666667           0.032650     0.050207   \n",
       "2               100.0              0.866667           0.028555     0.064129   \n",
       "3               100.0              1.000000           0.522907     0.057606   \n",
       "4               100.0              1.000000           0.079963     0.059441   \n",
       "\n",
       "   TLDLength  having_Sub_Domain  ...  Pay  Crypto  HasCopyrightInfo  \\\n",
       "0          3                  1  ...    0       0                 1   \n",
       "1          2                  1  ...    0       0                 1   \n",
       "2          2                  2  ...    0       0                 1   \n",
       "3          3                  1  ...    1       1                 1   \n",
       "4          3                  1  ...    1       0                 1   \n",
       "\n",
       "   NoOfImage  NoOfCSS  NoOfJS  NoOfSelfRef  NoOfEmptyRef  NoOfExternalRef  \\\n",
       "0         34       20      28          119             0              124   \n",
       "1         50        9       8           39             0              217   \n",
       "2         10        2       7           42             2                5   \n",
       "3          3       27      15           22             1               31   \n",
       "4        244       15      34           72             1               85   \n",
       "\n",
       "   Result  \n",
       "0       1  \n",
       "1       1  \n",
       "2       1  \n",
       "3       1  \n",
       "4       1  \n",
       "\n",
       "[5 rows x 52 columns]"
      ],
      "text/html": [
       "<div>\n",
       "<style scoped>\n",
       "    .dataframe tbody tr th:only-of-type {\n",
       "        vertical-align: middle;\n",
       "    }\n",
       "\n",
       "    .dataframe tbody tr th {\n",
       "        vertical-align: top;\n",
       "    }\n",
       "\n",
       "    .dataframe thead th {\n",
       "        text-align: right;\n",
       "    }\n",
       "</style>\n",
       "<table border=\"1\" class=\"dataframe\">\n",
       "  <thead>\n",
       "    <tr style=\"text-align: right;\">\n",
       "      <th></th>\n",
       "      <th>URL_Length</th>\n",
       "      <th>Domain_registeration_length</th>\n",
       "      <th>IsDomainIP</th>\n",
       "      <th>TLD</th>\n",
       "      <th>URLSimilarityIndex</th>\n",
       "      <th>CharContinuationRate</th>\n",
       "      <th>TLDLegitimateProb</th>\n",
       "      <th>URLCharProb</th>\n",
       "      <th>TLDLength</th>\n",
       "      <th>having_Sub_Domain</th>\n",
       "      <th>...</th>\n",
       "      <th>Pay</th>\n",
       "      <th>Crypto</th>\n",
       "      <th>HasCopyrightInfo</th>\n",
       "      <th>NoOfImage</th>\n",
       "      <th>NoOfCSS</th>\n",
       "      <th>NoOfJS</th>\n",
       "      <th>NoOfSelfRef</th>\n",
       "      <th>NoOfEmptyRef</th>\n",
       "      <th>NoOfExternalRef</th>\n",
       "      <th>Result</th>\n",
       "    </tr>\n",
       "  </thead>\n",
       "  <tbody>\n",
       "    <tr>\n",
       "      <th>0</th>\n",
       "      <td>31</td>\n",
       "      <td>24</td>\n",
       "      <td>0</td>\n",
       "      <td>com</td>\n",
       "      <td>100.0</td>\n",
       "      <td>1.000000</td>\n",
       "      <td>0.522907</td>\n",
       "      <td>0.061933</td>\n",
       "      <td>3</td>\n",
       "      <td>1</td>\n",
       "      <td>...</td>\n",
       "      <td>0</td>\n",
       "      <td>0</td>\n",
       "      <td>1</td>\n",
       "      <td>34</td>\n",
       "      <td>20</td>\n",
       "      <td>28</td>\n",
       "      <td>119</td>\n",
       "      <td>0</td>\n",
       "      <td>124</td>\n",
       "      <td>1</td>\n",
       "    </tr>\n",
       "    <tr>\n",
       "      <th>1</th>\n",
       "      <td>23</td>\n",
       "      <td>16</td>\n",
       "      <td>0</td>\n",
       "      <td>de</td>\n",
       "      <td>100.0</td>\n",
       "      <td>0.666667</td>\n",
       "      <td>0.032650</td>\n",
       "      <td>0.050207</td>\n",
       "      <td>2</td>\n",
       "      <td>1</td>\n",
       "      <td>...</td>\n",
       "      <td>0</td>\n",
       "      <td>0</td>\n",
       "      <td>1</td>\n",
       "      <td>50</td>\n",
       "      <td>9</td>\n",
       "      <td>8</td>\n",
       "      <td>39</td>\n",
       "      <td>0</td>\n",
       "      <td>217</td>\n",
       "      <td>1</td>\n",
       "    </tr>\n",
       "    <tr>\n",
       "      <th>2</th>\n",
       "      <td>29</td>\n",
       "      <td>22</td>\n",
       "      <td>0</td>\n",
       "      <td>uk</td>\n",
       "      <td>100.0</td>\n",
       "      <td>0.866667</td>\n",
       "      <td>0.028555</td>\n",
       "      <td>0.064129</td>\n",
       "      <td>2</td>\n",
       "      <td>2</td>\n",
       "      <td>...</td>\n",
       "      <td>0</td>\n",
       "      <td>0</td>\n",
       "      <td>1</td>\n",
       "      <td>10</td>\n",
       "      <td>2</td>\n",
       "      <td>7</td>\n",
       "      <td>42</td>\n",
       "      <td>2</td>\n",
       "      <td>5</td>\n",
       "      <td>1</td>\n",
       "    </tr>\n",
       "    <tr>\n",
       "      <th>3</th>\n",
       "      <td>26</td>\n",
       "      <td>19</td>\n",
       "      <td>0</td>\n",
       "      <td>com</td>\n",
       "      <td>100.0</td>\n",
       "      <td>1.000000</td>\n",
       "      <td>0.522907</td>\n",
       "      <td>0.057606</td>\n",
       "      <td>3</td>\n",
       "      <td>1</td>\n",
       "      <td>...</td>\n",
       "      <td>1</td>\n",
       "      <td>1</td>\n",
       "      <td>1</td>\n",
       "      <td>3</td>\n",
       "      <td>27</td>\n",
       "      <td>15</td>\n",
       "      <td>22</td>\n",
       "      <td>1</td>\n",
       "      <td>31</td>\n",
       "      <td>1</td>\n",
       "    </tr>\n",
       "    <tr>\n",
       "      <th>4</th>\n",
       "      <td>33</td>\n",
       "      <td>26</td>\n",
       "      <td>0</td>\n",
       "      <td>org</td>\n",
       "      <td>100.0</td>\n",
       "      <td>1.000000</td>\n",
       "      <td>0.079963</td>\n",
       "      <td>0.059441</td>\n",
       "      <td>3</td>\n",
       "      <td>1</td>\n",
       "      <td>...</td>\n",
       "      <td>1</td>\n",
       "      <td>0</td>\n",
       "      <td>1</td>\n",
       "      <td>244</td>\n",
       "      <td>15</td>\n",
       "      <td>34</td>\n",
       "      <td>72</td>\n",
       "      <td>1</td>\n",
       "      <td>85</td>\n",
       "      <td>1</td>\n",
       "    </tr>\n",
       "  </tbody>\n",
       "</table>\n",
       "<p>5 rows × 52 columns</p>\n",
       "</div>"
      ]
     },
     "execution_count": 12,
     "metadata": {},
     "output_type": "execute_result"
    }
   ],
   "execution_count": 12
  },
  {
   "metadata": {},
   "cell_type": "markdown",
   "source": [
    "This step of selecting features is important as we want to ensure consistency between the two datasets.\n",
    "\n",
    "Some features had similar meaning but different names.\n",
    "- 'NoOfURLRedirect' was renamed to 'Redirect' despite the presence of 'NoOfSelfRedirect' because it aligns better with the idea of how many times the user is redirected through external URLs.\n",
    "- 'DomainLength' was mapped to 'Domain_registeration_length'\n",
    "- And the rest was renamed to their respective equivalents as well, based on their descriptions and role"
   ],
   "id": "bb841d84d513dbf2"
  },
  {
   "metadata": {
    "ExecuteTime": {
     "end_time": "2025-06-12T19:26:15.367378Z",
     "start_time": "2025-06-12T19:26:15.318711Z"
    }
   },
   "cell_type": "code",
   "source": [
    "# To keep only common columns, we decided to simply take the intersection of their sets\n",
    "common_columns = list(set(df1.columns) & set(df2.columns))\n",
    "df1_cc = df1[common_columns].copy()\n",
    "df2_cc = df2[common_columns].copy()"
   ],
   "id": "68aca2cb4824fac2",
   "outputs": [],
   "execution_count": 13
  },
  {
   "metadata": {
    "ExecuteTime": {
     "end_time": "2025-06-12T19:26:16.907707Z",
     "start_time": "2025-06-12T19:26:16.856708Z"
    }
   },
   "cell_type": "code",
   "source": [
    "# Downsample the new dataset\n",
    "df2_sampled = df2_cc.sample(n=len(df1_cc), random_state=42) # we set the random_state for reproducibility"
   ],
   "id": "82d07c24930e03d6",
   "outputs": [],
   "execution_count": 14
  },
  {
   "metadata": {},
   "cell_type": "markdown",
   "source": "Looking at both datasets, we noticed a higher number of elements for each feature that the new dataset has. Due to this, we thought that it would be better to downsample it to the same length as for the older one, so that it won't dominate the training.",
   "id": "bbcc505c0fdbdf48"
  },
  {
   "metadata": {
    "ExecuteTime": {
     "end_time": "2025-06-12T19:26:19.255191Z",
     "start_time": "2025-06-12T19:26:19.251277Z"
    }
   },
   "cell_type": "code",
   "source": [
    "# Combine datasets\n",
    "merged_df = pd.concat([df1_cc, df2_sampled], ignore_index=True) # We included ignore_index because Pandas preserves the original row indices, and we want to reindex everything from scratch for a cleaner version"
   ],
   "id": "156a87ad9b0a9ab9",
   "outputs": [],
   "execution_count": 15
  },
  {
   "metadata": {
    "ExecuteTime": {
     "end_time": "2025-06-12T19:26:21.099809Z",
     "start_time": "2025-06-12T19:26:21.096261Z"
    }
   },
   "cell_type": "code",
   "source": [
    "# Move the target class to the end\n",
    "result = merged_df.pop('Result')\n",
    "merged_df['Result'] = result"
   ],
   "id": "853d1c22773a25c3",
   "outputs": [],
   "execution_count": 16
  },
  {
   "metadata": {
    "ExecuteTime": {
     "end_time": "2025-06-12T19:26:22.390665Z",
     "start_time": "2025-06-12T19:26:22.385121Z"
    }
   },
   "cell_type": "code",
   "source": [
    "# Preview\n",
    "print(merged_df.head())"
   ],
   "id": "9dc38dec32ce66d4",
   "outputs": [
    {
     "name": "stdout",
     "output_type": "stream",
     "text": [
      "   having_Sub_Domain  Favicon  URL_Length  Iframe  Redirect  \\\n",
      "0                 -1        1           1       1         0   \n",
      "1                  0        1           1       1         0   \n",
      "2                 -1        1           0       1         0   \n",
      "3                 -1        1           0       1         0   \n",
      "4                  1        1           0       1         0   \n",
      "\n",
      "   Domain_registeration_length  Result  \n",
      "0                           -1      -1  \n",
      "1                           -1      -1  \n",
      "2                           -1      -1  \n",
      "3                            1      -1  \n",
      "4                           -1       1  \n"
     ]
    }
   ],
   "execution_count": 17
  },
  {
   "metadata": {
    "ExecuteTime": {
     "end_time": "2025-06-12T19:26:29.313026Z",
     "start_time": "2025-06-12T19:26:29.286108Z"
    }
   },
   "cell_type": "code",
   "source": [
    "# Save as csv\n",
    "merged_df.to_csv(\"../data/merged_dataset.csv\", index=False)"
   ],
   "id": "9f11ac0a4218839d",
   "outputs": [],
   "execution_count": 18
  },
  {
   "metadata": {},
   "cell_type": "markdown",
   "source": "# Explore the merged dataset",
   "id": "d914e6444f34344"
  },
  {
   "metadata": {
    "ExecuteTime": {
     "end_time": "2025-06-12T19:26:36.160116Z",
     "start_time": "2025-06-12T19:26:36.150583Z"
    }
   },
   "cell_type": "code",
   "source": [
    "# Load the dataset\n",
    "df = pd.read_csv(\"../data/merged_dataset.csv\")"
   ],
   "id": "26ad3001655bebb7",
   "outputs": [],
   "execution_count": 19
  },
  {
   "metadata": {
    "ExecuteTime": {
     "end_time": "2025-06-12T19:26:38.058891Z",
     "start_time": "2025-06-12T19:26:38.052465Z"
    }
   },
   "cell_type": "code",
   "source": [
    "# See the first 5 rows\n",
    "df.head()"
   ],
   "id": "d3d3999d0dda6be8",
   "outputs": [
    {
     "data": {
      "text/plain": [
       "   having_Sub_Domain  Favicon  URL_Length  Iframe  Redirect  \\\n",
       "0                 -1        1           1       1         0   \n",
       "1                  0        1           1       1         0   \n",
       "2                 -1        1           0       1         0   \n",
       "3                 -1        1           0       1         0   \n",
       "4                  1        1           0       1         0   \n",
       "\n",
       "   Domain_registeration_length  Result  \n",
       "0                           -1      -1  \n",
       "1                           -1      -1  \n",
       "2                           -1      -1  \n",
       "3                            1      -1  \n",
       "4                           -1       1  "
      ],
      "text/html": [
       "<div>\n",
       "<style scoped>\n",
       "    .dataframe tbody tr th:only-of-type {\n",
       "        vertical-align: middle;\n",
       "    }\n",
       "\n",
       "    .dataframe tbody tr th {\n",
       "        vertical-align: top;\n",
       "    }\n",
       "\n",
       "    .dataframe thead th {\n",
       "        text-align: right;\n",
       "    }\n",
       "</style>\n",
       "<table border=\"1\" class=\"dataframe\">\n",
       "  <thead>\n",
       "    <tr style=\"text-align: right;\">\n",
       "      <th></th>\n",
       "      <th>having_Sub_Domain</th>\n",
       "      <th>Favicon</th>\n",
       "      <th>URL_Length</th>\n",
       "      <th>Iframe</th>\n",
       "      <th>Redirect</th>\n",
       "      <th>Domain_registeration_length</th>\n",
       "      <th>Result</th>\n",
       "    </tr>\n",
       "  </thead>\n",
       "  <tbody>\n",
       "    <tr>\n",
       "      <th>0</th>\n",
       "      <td>-1</td>\n",
       "      <td>1</td>\n",
       "      <td>1</td>\n",
       "      <td>1</td>\n",
       "      <td>0</td>\n",
       "      <td>-1</td>\n",
       "      <td>-1</td>\n",
       "    </tr>\n",
       "    <tr>\n",
       "      <th>1</th>\n",
       "      <td>0</td>\n",
       "      <td>1</td>\n",
       "      <td>1</td>\n",
       "      <td>1</td>\n",
       "      <td>0</td>\n",
       "      <td>-1</td>\n",
       "      <td>-1</td>\n",
       "    </tr>\n",
       "    <tr>\n",
       "      <th>2</th>\n",
       "      <td>-1</td>\n",
       "      <td>1</td>\n",
       "      <td>0</td>\n",
       "      <td>1</td>\n",
       "      <td>0</td>\n",
       "      <td>-1</td>\n",
       "      <td>-1</td>\n",
       "    </tr>\n",
       "    <tr>\n",
       "      <th>3</th>\n",
       "      <td>-1</td>\n",
       "      <td>1</td>\n",
       "      <td>0</td>\n",
       "      <td>1</td>\n",
       "      <td>0</td>\n",
       "      <td>1</td>\n",
       "      <td>-1</td>\n",
       "    </tr>\n",
       "    <tr>\n",
       "      <th>4</th>\n",
       "      <td>1</td>\n",
       "      <td>1</td>\n",
       "      <td>0</td>\n",
       "      <td>1</td>\n",
       "      <td>0</td>\n",
       "      <td>-1</td>\n",
       "      <td>1</td>\n",
       "    </tr>\n",
       "  </tbody>\n",
       "</table>\n",
       "</div>"
      ]
     },
     "execution_count": 20,
     "metadata": {},
     "output_type": "execute_result"
    }
   ],
   "execution_count": 20
  },
  {
   "metadata": {
    "ExecuteTime": {
     "end_time": "2025-06-12T19:26:40.783680Z",
     "start_time": "2025-06-12T19:26:40.778111Z"
    }
   },
   "cell_type": "code",
   "source": [
    "# Print information about data\n",
    "df.info()"
   ],
   "id": "1dbaa8170fefe3bf",
   "outputs": [
    {
     "name": "stdout",
     "output_type": "stream",
     "text": [
      "<class 'pandas.core.frame.DataFrame'>\n",
      "RangeIndex: 22110 entries, 0 to 22109\n",
      "Data columns (total 7 columns):\n",
      " #   Column                       Non-Null Count  Dtype\n",
      "---  ------                       --------------  -----\n",
      " 0   having_Sub_Domain            22110 non-null  int64\n",
      " 1   Favicon                      22110 non-null  int64\n",
      " 2   URL_Length                   22110 non-null  int64\n",
      " 3   Iframe                       22110 non-null  int64\n",
      " 4   Redirect                     22110 non-null  int64\n",
      " 5   Domain_registeration_length  22110 non-null  int64\n",
      " 6   Result                       22110 non-null  int64\n",
      "dtypes: int64(7)\n",
      "memory usage: 1.2 MB\n"
     ]
    }
   ],
   "execution_count": 21
  },
  {
   "metadata": {},
   "cell_type": "markdown",
   "source": "We can already see that features are not null integers. Moreover, we already checked each dataset individually, and we proved the same thing. Therefore, we will skip the check of null values.",
   "id": "bf0ccfebf46c0a2c"
  },
  {
   "metadata": {
    "ExecuteTime": {
     "end_time": "2025-06-12T19:31:42.636625Z",
     "start_time": "2025-06-12T19:31:42.583981Z"
    }
   },
   "cell_type": "code",
   "source": "df.describe()",
   "id": "4ba8c8f1e1b45490",
   "outputs": [
    {
     "data": {
      "text/plain": [
       "       having_Sub_Domain       Favicon    URL_Length        Iframe  \\\n",
       "count       22110.000000  22110.000000  22110.000000  22110.000000   \n",
       "mean            0.609679      0.491678     16.819900      1.178245   \n",
       "std             0.898069      0.660044     27.650745      3.570111   \n",
       "min            -1.000000     -1.000000     -1.000000     -1.000000   \n",
       "25%             0.000000      0.000000     -1.000000      0.000000   \n",
       "50%             1.000000      1.000000      7.500000      1.000000   \n",
       "75%             1.000000      1.000000     28.000000      1.000000   \n",
       "max             6.000000      1.000000    722.000000    263.000000   \n",
       "\n",
       "           Redirect  Domain_registeration_length        Result  \n",
       "count  22110.000000                 22110.000000  22110.000000  \n",
       "mean       0.124016                    10.498507      0.342515  \n",
       "std        0.329608                    12.599674      0.817488  \n",
       "min        0.000000                    -1.000000     -1.000000  \n",
       "25%        0.000000                    -1.000000      0.000000  \n",
       "50%        0.000000                     2.500000      1.000000  \n",
       "75%        0.000000                    20.000000      1.000000  \n",
       "max        1.000000                    93.000000      1.000000  "
      ],
      "text/html": [
       "<div>\n",
       "<style scoped>\n",
       "    .dataframe tbody tr th:only-of-type {\n",
       "        vertical-align: middle;\n",
       "    }\n",
       "\n",
       "    .dataframe tbody tr th {\n",
       "        vertical-align: top;\n",
       "    }\n",
       "\n",
       "    .dataframe thead th {\n",
       "        text-align: right;\n",
       "    }\n",
       "</style>\n",
       "<table border=\"1\" class=\"dataframe\">\n",
       "  <thead>\n",
       "    <tr style=\"text-align: right;\">\n",
       "      <th></th>\n",
       "      <th>having_Sub_Domain</th>\n",
       "      <th>Favicon</th>\n",
       "      <th>URL_Length</th>\n",
       "      <th>Iframe</th>\n",
       "      <th>Redirect</th>\n",
       "      <th>Domain_registeration_length</th>\n",
       "      <th>Result</th>\n",
       "    </tr>\n",
       "  </thead>\n",
       "  <tbody>\n",
       "    <tr>\n",
       "      <th>count</th>\n",
       "      <td>22110.000000</td>\n",
       "      <td>22110.000000</td>\n",
       "      <td>22110.000000</td>\n",
       "      <td>22110.000000</td>\n",
       "      <td>22110.000000</td>\n",
       "      <td>22110.000000</td>\n",
       "      <td>22110.000000</td>\n",
       "    </tr>\n",
       "    <tr>\n",
       "      <th>mean</th>\n",
       "      <td>0.609679</td>\n",
       "      <td>0.491678</td>\n",
       "      <td>16.819900</td>\n",
       "      <td>1.178245</td>\n",
       "      <td>0.124016</td>\n",
       "      <td>10.498507</td>\n",
       "      <td>0.342515</td>\n",
       "    </tr>\n",
       "    <tr>\n",
       "      <th>std</th>\n",
       "      <td>0.898069</td>\n",
       "      <td>0.660044</td>\n",
       "      <td>27.650745</td>\n",
       "      <td>3.570111</td>\n",
       "      <td>0.329608</td>\n",
       "      <td>12.599674</td>\n",
       "      <td>0.817488</td>\n",
       "    </tr>\n",
       "    <tr>\n",
       "      <th>min</th>\n",
       "      <td>-1.000000</td>\n",
       "      <td>-1.000000</td>\n",
       "      <td>-1.000000</td>\n",
       "      <td>-1.000000</td>\n",
       "      <td>0.000000</td>\n",
       "      <td>-1.000000</td>\n",
       "      <td>-1.000000</td>\n",
       "    </tr>\n",
       "    <tr>\n",
       "      <th>25%</th>\n",
       "      <td>0.000000</td>\n",
       "      <td>0.000000</td>\n",
       "      <td>-1.000000</td>\n",
       "      <td>0.000000</td>\n",
       "      <td>0.000000</td>\n",
       "      <td>-1.000000</td>\n",
       "      <td>0.000000</td>\n",
       "    </tr>\n",
       "    <tr>\n",
       "      <th>50%</th>\n",
       "      <td>1.000000</td>\n",
       "      <td>1.000000</td>\n",
       "      <td>7.500000</td>\n",
       "      <td>1.000000</td>\n",
       "      <td>0.000000</td>\n",
       "      <td>2.500000</td>\n",
       "      <td>1.000000</td>\n",
       "    </tr>\n",
       "    <tr>\n",
       "      <th>75%</th>\n",
       "      <td>1.000000</td>\n",
       "      <td>1.000000</td>\n",
       "      <td>28.000000</td>\n",
       "      <td>1.000000</td>\n",
       "      <td>0.000000</td>\n",
       "      <td>20.000000</td>\n",
       "      <td>1.000000</td>\n",
       "    </tr>\n",
       "    <tr>\n",
       "      <th>max</th>\n",
       "      <td>6.000000</td>\n",
       "      <td>1.000000</td>\n",
       "      <td>722.000000</td>\n",
       "      <td>263.000000</td>\n",
       "      <td>1.000000</td>\n",
       "      <td>93.000000</td>\n",
       "      <td>1.000000</td>\n",
       "    </tr>\n",
       "  </tbody>\n",
       "</table>\n",
       "</div>"
      ]
     },
     "execution_count": 22,
     "metadata": {},
     "output_type": "execute_result"
    }
   ],
   "execution_count": 22
  },
  {
   "metadata": {
    "ExecuteTime": {
     "end_time": "2025-06-12T19:32:50.621065Z",
     "start_time": "2025-06-12T19:32:50.610447Z"
    }
   },
   "cell_type": "code",
   "source": [
    "# Check for duplicates\n",
    "df.duplicated().sum()"
   ],
   "id": "e0be33e2e74f530e",
   "outputs": [
    {
     "data": {
      "text/plain": [
       "np.int64(18887)"
      ]
     },
     "execution_count": 23,
     "metadata": {},
     "output_type": "execute_result"
    }
   ],
   "execution_count": 23
  },
  {
   "metadata": {},
   "cell_type": "markdown",
   "source": "The number of duplicates was expected due to binary features.",
   "id": "de8f3051529128e9"
  },
  {
   "metadata": {
    "ExecuteTime": {
     "end_time": "2025-06-12T19:33:50.046026Z",
     "start_time": "2025-06-12T19:33:50.040219Z"
    }
   },
   "cell_type": "code",
   "source": [
    "# Check target class\n",
    "df['Result'].value_counts()"
   ],
   "id": "d99e61fa704145d8",
   "outputs": [
    {
     "data": {
      "text/plain": [
       "Result\n",
       " 1    12471\n",
       "-1     4898\n",
       " 0     4741\n",
       "Name: count, dtype: int64"
      ]
     },
     "execution_count": 24,
     "metadata": {},
     "output_type": "execute_result"
    }
   ],
   "execution_count": 24
  },
  {
   "metadata": {},
   "cell_type": "markdown",
   "source": "It is clear that class 1 dominates and introduces imbalance.",
   "id": "b2492fbb46e3fd3c"
  },
  {
   "metadata": {},
   "cell_type": "markdown",
   "source": "## Check class imbalance",
   "id": "f9bab74df5214316"
  },
  {
   "metadata": {
    "ExecuteTime": {
     "end_time": "2025-06-12T19:37:05.917404Z",
     "start_time": "2025-06-12T19:37:05.787088Z"
    }
   },
   "cell_type": "code",
   "source": [
    "# Class distribution plot\n",
    "sns.countplot(x='Result', data=df)"
   ],
   "id": "e270cd2c2260776e",
   "outputs": [
    {
     "data": {
      "text/plain": [
       "<Axes: xlabel='Result', ylabel='count'>"
      ]
     },
     "execution_count": 25,
     "metadata": {},
     "output_type": "execute_result"
    },
    {
     "data": {
      "text/plain": [
       "<Figure size 640x480 with 1 Axes>"
      ],
      "image/png": "[encoded data removed]"
     },
     "metadata": {},
     "output_type": "display_data"
    }
   ],
   "execution_count": 25
  },
  {
   "metadata": {},
   "cell_type": "markdown",
   "source": "The plot helps us visualize even better the difference that exists between 1 and the other classes.",
   "id": "26c01e464585ff50"
  },
  {
   "metadata": {},
   "cell_type": "markdown",
   "source": "# Visualizations",
   "id": "194612e8e4c550b9"
  },
  {
   "metadata": {},
   "cell_type": "markdown",
   "source": "## Feature Correlation Heatmap",
   "id": "4efb52aa0ce8cdee"
  },
  {
   "metadata": {
    "ExecuteTime": {
     "end_time": "2025-06-12T19:55:30.041437Z",
     "start_time": "2025-06-12T19:55:29.927542Z"
    }
   },
   "cell_type": "code",
   "source": [
    "sns.heatmap(df.corr(), cmap=\"coolwarm\", annot=False)\n",
    "plt.title(\"Feature Correlation Heatmap\")\n",
    "plt.show()"
   ],
   "id": "9bbdf5e32f68c729",
   "outputs": [
    {
     "data": {
      "text/plain": [
       "<Figure size 640x480 with 2 Axes>"
      ],
      "image/png": "[encoded data removed]"
     },
     "metadata": {},
     "output_type": "display_data"
    }
   ],
   "execution_count": 27
  },
  {
   "metadata": {},
   "cell_type": "markdown",
   "source": [
    "As we already know, a more intense color represents a stronger correlation which can be either positive or negative.\n",
    "\n",
    "There is some visible correlation between 'Domain_registeration_length' and others, but unfortunately, most of the values seem weak."
   ],
   "id": "9cc8c83edf782f67"
  },
  {
   "metadata": {},
   "cell_type": "markdown",
   "source": "## Feature Correlation with 'Result'",
   "id": "51cb39f975b1f58a"
  },
  {
   "metadata": {
    "ExecuteTime": {
     "end_time": "2025-06-12T19:58:39.477197Z",
     "start_time": "2025-06-12T19:58:39.404667Z"
    }
   },
   "cell_type": "code",
   "source": [
    "corr_with_target = df.corr()['Result'].drop('Result').sort_values()\n",
    "corr_with_target.plot(kind='barh', title=\"Feature Correlation with 'Result'\")\n",
    "plt.show()"
   ],
   "id": "fe6a1c66a04ddad7",
   "outputs": [
    {
     "data": {
      "text/plain": [
       "<Figure size 640x480 with 1 Axes>"
      ],
      "image/png": "[encoded data removed]"
     },
     "metadata": {},
     "output_type": "display_data"
    }
   ],
   "execution_count": 28
  },
  {
   "metadata": {},
   "cell_type": "markdown",
   "source": [
    "- Positive bars show positively correlated features with Result\n",
    "- Negative bars show negatively correlated features with Result\n",
    "\n",
    "This time, we have a new situation introduced by 'Redirect'. It has a very small positive value, close to 0, which means almost no correlation at all."
   ],
   "id": "f702eef4b4b4b0b"
  },
  {
   "metadata": {},
   "cell_type": "markdown",
   "source": "## Pairplot with two highly relevant features vs 'Result'",
   "id": "116c185a25305bd8"
  },
  {
   "metadata": {
    "ExecuteTime": {
     "end_time": "2025-06-12T20:05:29.207368Z",
     "start_time": "2025-06-12T20:05:25.708019Z"
    }
   },
   "cell_type": "code",
   "source": "sns.pairplot(df[['having_Sub_Domain','Domain_registeration_length','Result']], hue=\"Result\")",
   "id": "62bf5d5d9b332713",
   "outputs": [
    {
     "data": {
      "text/plain": [
       "<seaborn.axisgrid.PairGrid at 0x1584b8f8c20>"
      ]
     },
     "execution_count": 30,
     "metadata": {},
     "output_type": "execute_result"
    },
    {
     "data": {
      "text/plain": [
       "<Figure size 562.375x500 with 6 Axes>"
      ],
      "image/png": "[encoded data removed]"
     },
     "metadata": {},
     "output_type": "display_data"
    }
   ],
   "execution_count": 30
  },
  {
   "metadata": {},
   "cell_type": "markdown",
   "source": [
    "This plot is quite tricky to interpret. We have to break it down:\n",
    "\n",
    "- The diagonal plots, which are some kind of histograms, show distributions of each feature per class\n",
    "- The scatter plots show how the two features behave together\n",
    "\n",
    "We can see that the phishing samples are more concentrated around low values of 'Domain_registeration_length' and 'having_Sub_Domain', being highlighted in dark red.\n",
    "\n",
    "On the other hand, the legitimate samples, which are more likely to be in light-purple, are spread higher along both axes."
   ],
   "id": "15b9ae096b36d3ea"
  },
  {
   "metadata": {},
   "cell_type": "code",
   "outputs": [],
   "execution_count": null,
   "source": "",
   "id": "50ec8c39969d70fe"
  }
 ],
 "metadata": {
  "kernelspec": {
   "display_name": "Python 3",
   "language": "python",
   "name": "python3"
  },
  "language_info": {
   "codemirror_mode": {
    "name": "ipython",
    "version": 2
   },
   "file_extension": ".py",
   "mimetype": "text/x-python",
   "name": "python",
   "nbconvert_exporter": "python",
   "pygments_lexer": "ipython2",
   "version": "2.7.6"
  }
 },
 "nbformat": 4,
 "nbformat_minor": 5
}
