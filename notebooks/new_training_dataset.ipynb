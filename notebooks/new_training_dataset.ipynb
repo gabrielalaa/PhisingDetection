{
 "cells": [
  {
   "metadata": {},
   "cell_type": "markdown",
   "source": "# Prepare the setup",
   "id": "41dcc5da3ced0893"
  },
  {
   "cell_type": "code",
   "id": "initial_id",
   "metadata": {
    "collapsed": true,
    "ExecuteTime": {
     "end_time": "2025-05-28T07:25:13.894297Z",
     "start_time": "2025-05-28T07:25:13.885518Z"
    }
   },
   "source": [
    "# Import packages\n",
    "import seaborn as sns\n",
    "import pandas as pd\n",
    "import numpy as np\n",
    "import matplotlib.pyplot as plt\n",
    "\n",
    "from sklearn.model_selection import train_test_split\n",
    "from sklearn.preprocessing import StandardScaler\n",
    "from sklearn.linear_model import LogisticRegression\n",
    "from sklearn.neighbors import KNeighborsClassifier\n",
    "from sklearn.tree import DecisionTreeClassifier\n",
    "from sklearn.ensemble import RandomForestClassifier\n",
    "from sklearn.metrics import classification_report, accuracy_score, precision_score, recall_score, f1_score, ConfusionMatrixDisplay"
   ],
   "outputs": [],
   "execution_count": 9
  },
  {
   "metadata": {
    "ExecuteTime": {
     "end_time": "2025-05-28T07:25:17.993100Z",
     "start_time": "2025-05-28T07:25:16.402373Z"
    }
   },
   "cell_type": "code",
   "source": [
    "# Load the dataset\n",
    "df = pd.read_csv(\"../data/new_training_dataset.csv\")"
   ],
   "id": "e2891699cf560405",
   "outputs": [],
   "execution_count": 10
  },
  {
   "metadata": {},
   "cell_type": "markdown",
   "source": "This dataset was already in csv format, so we imported it directly. To prepare it we removed some columns we didn't need for the model development. Most of those were categorical type which we didn't need or were already covered with other similar columns. \n",
   "id": "ef16ed07096604ec"
  },
  {
   "metadata": {},
   "cell_type": "markdown",
   "source": "# Initial Exploration",
   "id": "d27d197c94e2519c"
  },
  {
   "metadata": {
    "ExecuteTime": {
     "end_time": "2025-05-28T07:25:21.740581Z",
     "start_time": "2025-05-28T07:25:21.715745Z"
    }
   },
   "cell_type": "code",
   "source": [
    "# See the first 5 rows\n",
    "df.head()"
   ],
   "id": "92fb79d2d59e498e",
   "outputs": [
    {
     "data": {
      "text/plain": [
       "   URLLength  DomainLength  IsDomainIP  TLD  URLSimilarityIndex  \\\n",
       "0         31            24           0  com               100.0   \n",
       "1         23            16           0   de               100.0   \n",
       "2         29            22           0   uk               100.0   \n",
       "3         26            19           0  com               100.0   \n",
       "4         33            26           0  org               100.0   \n",
       "\n",
       "   CharContinuationRate  TLDLegitimateProb  URLCharProb  TLDLength  \\\n",
       "0              1.000000           0.522907     0.061933          3   \n",
       "1              0.666667           0.032650     0.050207          2   \n",
       "2              0.866667           0.028555     0.064129          2   \n",
       "3              1.000000           0.522907     0.057606          3   \n",
       "4              1.000000           0.079963     0.059441          3   \n",
       "\n",
       "   NoOfSubDomain  ...  Pay  Crypto  HasCopyrightInfo  NoOfImage  NoOfCSS  \\\n",
       "0              1  ...    0       0                 1         34       20   \n",
       "1              1  ...    0       0                 1         50        9   \n",
       "2              2  ...    0       0                 1         10        2   \n",
       "3              1  ...    1       1                 1          3       27   \n",
       "4              1  ...    1       0                 1        244       15   \n",
       "\n",
       "   NoOfJS  NoOfSelfRef  NoOfEmptyRef  NoOfExternalRef  label  \n",
       "0      28          119             0              124      1  \n",
       "1       8           39             0              217      1  \n",
       "2       7           42             2                5      1  \n",
       "3      15           22             1               31      1  \n",
       "4      34           72             1               85      1  \n",
       "\n",
       "[5 rows x 52 columns]"
      ],
      "text/html": [
       "<div>\n",
       "<style scoped>\n",
       "    .dataframe tbody tr th:only-of-type {\n",
       "        vertical-align: middle;\n",
       "    }\n",
       "\n",
       "    .dataframe tbody tr th {\n",
       "        vertical-align: top;\n",
       "    }\n",
       "\n",
       "    .dataframe thead th {\n",
       "        text-align: right;\n",
       "    }\n",
       "</style>\n",
       "<table border=\"1\" class=\"dataframe\">\n",
       "  <thead>\n",
       "    <tr style=\"text-align: right;\">\n",
       "      <th></th>\n",
       "      <th>URLLength</th>\n",
       "      <th>DomainLength</th>\n",
       "      <th>IsDomainIP</th>\n",
       "      <th>TLD</th>\n",
       "      <th>URLSimilarityIndex</th>\n",
       "      <th>CharContinuationRate</th>\n",
       "      <th>TLDLegitimateProb</th>\n",
       "      <th>URLCharProb</th>\n",
       "      <th>TLDLength</th>\n",
       "      <th>NoOfSubDomain</th>\n",
       "      <th>...</th>\n",
       "      <th>Pay</th>\n",
       "      <th>Crypto</th>\n",
       "      <th>HasCopyrightInfo</th>\n",
       "      <th>NoOfImage</th>\n",
       "      <th>NoOfCSS</th>\n",
       "      <th>NoOfJS</th>\n",
       "      <th>NoOfSelfRef</th>\n",
       "      <th>NoOfEmptyRef</th>\n",
       "      <th>NoOfExternalRef</th>\n",
       "      <th>label</th>\n",
       "    </tr>\n",
       "  </thead>\n",
       "  <tbody>\n",
       "    <tr>\n",
       "      <th>0</th>\n",
       "      <td>31</td>\n",
       "      <td>24</td>\n",
       "      <td>0</td>\n",
       "      <td>com</td>\n",
       "      <td>100.0</td>\n",
       "      <td>1.000000</td>\n",
       "      <td>0.522907</td>\n",
       "      <td>0.061933</td>\n",
       "      <td>3</td>\n",
       "      <td>1</td>\n",
       "      <td>...</td>\n",
       "      <td>0</td>\n",
       "      <td>0</td>\n",
       "      <td>1</td>\n",
       "      <td>34</td>\n",
       "      <td>20</td>\n",
       "      <td>28</td>\n",
       "      <td>119</td>\n",
       "      <td>0</td>\n",
       "      <td>124</td>\n",
       "      <td>1</td>\n",
       "    </tr>\n",
       "    <tr>\n",
       "      <th>1</th>\n",
       "      <td>23</td>\n",
       "      <td>16</td>\n",
       "      <td>0</td>\n",
       "      <td>de</td>\n",
       "      <td>100.0</td>\n",
       "      <td>0.666667</td>\n",
       "      <td>0.032650</td>\n",
       "      <td>0.050207</td>\n",
       "      <td>2</td>\n",
       "      <td>1</td>\n",
       "      <td>...</td>\n",
       "      <td>0</td>\n",
       "      <td>0</td>\n",
       "      <td>1</td>\n",
       "      <td>50</td>\n",
       "      <td>9</td>\n",
       "      <td>8</td>\n",
       "      <td>39</td>\n",
       "      <td>0</td>\n",
       "      <td>217</td>\n",
       "      <td>1</td>\n",
       "    </tr>\n",
       "    <tr>\n",
       "      <th>2</th>\n",
       "      <td>29</td>\n",
       "      <td>22</td>\n",
       "      <td>0</td>\n",
       "      <td>uk</td>\n",
       "      <td>100.0</td>\n",
       "      <td>0.866667</td>\n",
       "      <td>0.028555</td>\n",
       "      <td>0.064129</td>\n",
       "      <td>2</td>\n",
       "      <td>2</td>\n",
       "      <td>...</td>\n",
       "      <td>0</td>\n",
       "      <td>0</td>\n",
       "      <td>1</td>\n",
       "      <td>10</td>\n",
       "      <td>2</td>\n",
       "      <td>7</td>\n",
       "      <td>42</td>\n",
       "      <td>2</td>\n",
       "      <td>5</td>\n",
       "      <td>1</td>\n",
       "    </tr>\n",
       "    <tr>\n",
       "      <th>3</th>\n",
       "      <td>26</td>\n",
       "      <td>19</td>\n",
       "      <td>0</td>\n",
       "      <td>com</td>\n",
       "      <td>100.0</td>\n",
       "      <td>1.000000</td>\n",
       "      <td>0.522907</td>\n",
       "      <td>0.057606</td>\n",
       "      <td>3</td>\n",
       "      <td>1</td>\n",
       "      <td>...</td>\n",
       "      <td>1</td>\n",
       "      <td>1</td>\n",
       "      <td>1</td>\n",
       "      <td>3</td>\n",
       "      <td>27</td>\n",
       "      <td>15</td>\n",
       "      <td>22</td>\n",
       "      <td>1</td>\n",
       "      <td>31</td>\n",
       "      <td>1</td>\n",
       "    </tr>\n",
       "    <tr>\n",
       "      <th>4</th>\n",
       "      <td>33</td>\n",
       "      <td>26</td>\n",
       "      <td>0</td>\n",
       "      <td>org</td>\n",
       "      <td>100.0</td>\n",
       "      <td>1.000000</td>\n",
       "      <td>0.079963</td>\n",
       "      <td>0.059441</td>\n",
       "      <td>3</td>\n",
       "      <td>1</td>\n",
       "      <td>...</td>\n",
       "      <td>1</td>\n",
       "      <td>0</td>\n",
       "      <td>1</td>\n",
       "      <td>244</td>\n",
       "      <td>15</td>\n",
       "      <td>34</td>\n",
       "      <td>72</td>\n",
       "      <td>1</td>\n",
       "      <td>85</td>\n",
       "      <td>1</td>\n",
       "    </tr>\n",
       "  </tbody>\n",
       "</table>\n",
       "<p>5 rows × 52 columns</p>\n",
       "</div>"
      ]
     },
     "execution_count": 11,
     "metadata": {},
     "output_type": "execute_result"
    }
   ],
   "execution_count": 11
  },
  {
   "metadata": {},
   "cell_type": "markdown",
   "source": "",
   "id": "27aba5d2425c0fb0"
  },
  {
   "metadata": {
    "ExecuteTime": {
     "end_time": "2025-05-28T07:25:28.770938Z",
     "start_time": "2025-05-28T07:25:28.712713Z"
    }
   },
   "cell_type": "code",
   "source": [
    "# Print information about data\n",
    "df.info()"
   ],
   "id": "857ac9cb71753b9e",
   "outputs": [
    {
     "name": "stdout",
     "output_type": "stream",
     "text": [
      "<class 'pandas.core.frame.DataFrame'>\n",
      "RangeIndex: 235795 entries, 0 to 235794\n",
      "Data columns (total 52 columns):\n",
      " #   Column                      Non-Null Count   Dtype  \n",
      "---  ------                      --------------   -----  \n",
      " 0   URLLength                   235795 non-null  int64  \n",
      " 1   DomainLength                235795 non-null  int64  \n",
      " 2   IsDomainIP                  235795 non-null  int64  \n",
      " 3   TLD                         235795 non-null  object \n",
      " 4   URLSimilarityIndex          235795 non-null  float64\n",
      " 5   CharContinuationRate        235795 non-null  float64\n",
      " 6   TLDLegitimateProb           235795 non-null  float64\n",
      " 7   URLCharProb                 235795 non-null  float64\n",
      " 8   TLDLength                   235795 non-null  int64  \n",
      " 9   NoOfSubDomain               235795 non-null  int64  \n",
      " 10  HasObfuscation              235795 non-null  int64  \n",
      " 11  NoOfObfuscatedChar          235795 non-null  int64  \n",
      " 12  ObfuscationRatio            235795 non-null  float64\n",
      " 13  NoOfLettersInURL            235795 non-null  int64  \n",
      " 14  LetterRatioInURL            235795 non-null  float64\n",
      " 15  NoOfDegitsInURL             235795 non-null  int64  \n",
      " 16  DegitRatioInURL             235795 non-null  float64\n",
      " 17  NoOfEqualsInURL             235795 non-null  int64  \n",
      " 18  NoOfQMarkInURL              235795 non-null  int64  \n",
      " 19  NoOfAmpersandInURL          235795 non-null  int64  \n",
      " 20  NoOfOtherSpecialCharsInURL  235795 non-null  int64  \n",
      " 21  SpacialCharRatioInURL       235795 non-null  float64\n",
      " 22  IsHTTPS                     235795 non-null  int64  \n",
      " 23  LineOfCode                  235795 non-null  int64  \n",
      " 24  LargestLineLength           235795 non-null  int64  \n",
      " 25  HasTitle                    235795 non-null  int64  \n",
      " 26  DomainTitleMatchScore       235795 non-null  float64\n",
      " 27  URLTitleMatchScore          235795 non-null  float64\n",
      " 28  HasFavicon                  235795 non-null  int64  \n",
      " 29  Robots                      235795 non-null  int64  \n",
      " 30  IsResponsive                235795 non-null  int64  \n",
      " 31  NoOfURLRedirect             235795 non-null  int64  \n",
      " 32  NoOfSelfRedirect            235795 non-null  int64  \n",
      " 33  HasDescription              235795 non-null  int64  \n",
      " 34  NoOfPopup                   235795 non-null  int64  \n",
      " 35  NoOfiFrame                  235795 non-null  int64  \n",
      " 36  HasExternalFormSubmit       235795 non-null  int64  \n",
      " 37  HasSocialNet                235795 non-null  int64  \n",
      " 38  HasSubmitButton             235795 non-null  int64  \n",
      " 39  HasHiddenFields             235795 non-null  int64  \n",
      " 40  HasPasswordField            235795 non-null  int64  \n",
      " 41  Bank                        235795 non-null  int64  \n",
      " 42  Pay                         235795 non-null  int64  \n",
      " 43  Crypto                      235795 non-null  int64  \n",
      " 44  HasCopyrightInfo            235795 non-null  int64  \n",
      " 45  NoOfImage                   235795 non-null  int64  \n",
      " 46  NoOfCSS                     235795 non-null  int64  \n",
      " 47  NoOfJS                      235795 non-null  int64  \n",
      " 48  NoOfSelfRef                 235795 non-null  int64  \n",
      " 49  NoOfEmptyRef                235795 non-null  int64  \n",
      " 50  NoOfExternalRef             235795 non-null  int64  \n",
      " 51  label                       235795 non-null  int64  \n",
      "dtypes: float64(10), int64(41), object(1)\n",
      "memory usage: 93.5+ MB\n"
     ]
    }
   ],
   "execution_count": 12
  },
  {
   "metadata": {},
   "cell_type": "markdown",
   "source": "As we can see, all of our features are now int or float.",
   "id": "38cccdff5852ac49"
  },
  {
   "metadata": {},
   "cell_type": "code",
   "outputs": [],
   "execution_count": null,
   "source": "df.describe()",
   "id": "eb8680b3bdfa2035"
  },
  {
   "metadata": {},
   "cell_type": "markdown",
   "source": "We can see basic statistical information such as count, mean, standard deviation, minimum value, the quartiles, and maximum value.",
   "id": "ad92e0c737be2e0e"
  },
  {
   "metadata": {},
   "cell_type": "code",
   "outputs": [],
   "execution_count": null,
   "source": [
    "# Check for null values\n",
    "df.isna().sum()"
   ],
   "id": "fa90615d7a54e49a"
  },
  {
   "metadata": {},
   "cell_type": "markdown",
   "source": "As with the other dataset, we luckily have no NAs.",
   "id": "475bcc6d3915cf05"
  },
  {
   "metadata": {},
   "cell_type": "code",
   "outputs": [],
   "execution_count": null,
   "source": [
    "# Check for duplicates\n",
    "df.duplicated().sum()"
   ],
   "id": "1cfb72e88a725222"
  },
  {
   "metadata": {},
   "cell_type": "markdown",
   "source": "We don't have a lot of duplicates, they only account for around 0.4% of our dataset, so we're going to drop them.",
   "id": "523765ab435d850f"
  },
  {
   "metadata": {
    "ExecuteTime": {
     "end_time": "2025-05-28T07:35:53.619675Z",
     "start_time": "2025-05-28T07:35:52.991297Z"
    }
   },
   "cell_type": "code",
   "source": "df = df.drop_duplicates()",
   "id": "705b1c9000345fbc",
   "outputs": [],
   "execution_count": 18
  },
  {
   "metadata": {
    "ExecuteTime": {
     "end_time": "2025-05-28T07:35:55.271246Z",
     "start_time": "2025-05-28T07:35:54.674679Z"
    }
   },
   "cell_type": "code",
   "source": "df.duplicated().sum()",
   "id": "86bbc782bea533f4",
   "outputs": [
    {
     "data": {
      "text/plain": [
       "np.int64(0)"
      ]
     },
     "execution_count": 19,
     "metadata": {},
     "output_type": "execute_result"
    }
   ],
   "execution_count": 19
  },
  {
   "metadata": {},
   "cell_type": "markdown",
   "source": [
    "The values were dropped successfully.\n",
    "## Check for class imbalance"
   ],
   "id": "92dc76348521d072"
  },
  {
   "metadata": {
    "ExecuteTime": {
     "end_time": "2025-05-28T07:30:47.831661Z",
     "start_time": "2025-05-28T07:30:47.814639Z"
    }
   },
   "cell_type": "code",
   "source": [
    "# Check target class\n",
    "df['label'].value_counts()"
   ],
   "id": "beb07e2c7b20feaf",
   "outputs": [
    {
     "data": {
      "text/plain": [
       "label\n",
       "1    134850\n",
       "0    100945\n",
       "Name: count, dtype: int64"
      ]
     },
     "execution_count": 13,
     "metadata": {},
     "output_type": "execute_result"
    }
   ],
   "execution_count": 13
  },
  {
   "metadata": {
    "ExecuteTime": {
     "end_time": "2025-05-28T07:44:38.108682Z",
     "start_time": "2025-05-28T07:44:37.284153Z"
    }
   },
   "cell_type": "code",
   "source": [
    "# Class distribution plot\n",
    "sns.countplot(x='label', data=df)"
   ],
   "id": "d159b387303cbff6",
   "outputs": [
    {
     "data": {
      "text/plain": [
       "<Axes: xlabel='label', ylabel='count'>"
      ]
     },
     "execution_count": 21,
     "metadata": {},
     "output_type": "execute_result"
    },
    {
     "data": {
      "text/plain": [
       "<Figure size 640x480 with 1 Axes>"
      ],
      "image/png": "[encoded data removed]"
     },
     "metadata": {},
     "output_type": "display_data"
    }
   ],
   "execution_count": 21
  },
  {
   "metadata": {},
   "cell_type": "markdown",
   "source": [
    "There is not a big difference between the two results, so we go to the next step without balancing.\n",
    "## More visualisations\n"
   ],
   "id": "724fd9814149535a"
  },
  {
   "metadata": {},
   "cell_type": "code",
   "outputs": [],
   "execution_count": null,
   "source": "",
   "id": "3660bc098debf938"
  }
 ],
 "metadata": {
  "kernelspec": {
   "display_name": "Python 3",
   "language": "python",
   "name": "python3"
  },
  "language_info": {
   "codemirror_mode": {
    "name": "ipython",
    "version": 2
   },
   "file_extension": ".py",
   "mimetype": "text/x-python",
   "name": "python",
   "nbconvert_exporter": "python",
   "pygments_lexer": "ipython2",
   "version": "2.7.6"
  }
 },
 "nbformat": 4,
 "nbformat_minor": 5
}
