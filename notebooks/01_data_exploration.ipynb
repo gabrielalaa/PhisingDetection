{
 "cells": [
  {
   "cell_type": "code",
   "id": "initial_id",
   "metadata": {
    "collapsed": true,
    "ExecuteTime": {
     "end_time": "2025-05-14T13:33:40.242380Z",
     "start_time": "2025-05-14T13:33:32.223075Z"
    }
   },
   "source": [
    "# Import packages\n",
    "import csv\n",
    "import pandas as pd"
   ],
   "outputs": [],
   "execution_count": 1
  },
  {
   "metadata": {
    "ExecuteTime": {
     "end_time": "2025-05-14T13:58:21.899991Z",
     "start_time": "2025-05-14T13:58:21.870507Z"
    }
   },
   "cell_type": "code",
   "source": [
    "# Load the dataset\n",
    "df = pd.read_csv(\"data/raw/old/old_training_dataset.csv\")"
   ],
   "id": "a2cf2b4dc31f15ba",
   "outputs": [],
   "execution_count": 19
  },
  {
   "metadata": {
    "ExecuteTime": {
     "end_time": "2025-05-14T13:58:44.494886Z",
     "start_time": "2025-05-14T13:58:44.489136Z"
    }
   },
   "cell_type": "code",
   "source": [
    "# Initial exploration\n",
    "df.head()\n",
    "df.info()\n",
    "df.shape()"
   ],
   "id": "f49b658475e818aa",
   "outputs": [
    {
     "name": "stdout",
     "output_type": "stream",
     "text": [
      "   having_IP_Address  URL_Length  Shortining_Service  having_At_Symbol  \\\n",
      "0                 -1           1                   1                 1   \n",
      "1                  1           1                   1                 1   \n",
      "2                  1           0                   1                 1   \n",
      "3                  1           0                   1                 1   \n",
      "4                  1           0                  -1                 1   \n",
      "\n",
      "   double_slash_redirecting  Prefix_Suffix  having_Sub_Domain  SSLfinal_State  \\\n",
      "0                        -1             -1                 -1              -1   \n",
      "1                         1             -1                  0               1   \n",
      "2                         1             -1                 -1              -1   \n",
      "3                         1             -1                 -1              -1   \n",
      "4                         1             -1                  1               1   \n",
      "\n",
      "   Domain_registeration_length  Favicon  ...  RightClick  popUpWidnow  Iframe  \\\n",
      "0                           -1        1  ...           1            1       1   \n",
      "1                           -1        1  ...           1            1       1   \n",
      "2                           -1        1  ...           1            1       1   \n",
      "3                            1        1  ...           1            1       1   \n",
      "4                           -1        1  ...           1           -1       1   \n",
      "\n",
      "   age_of_domain  DNSRecord  web_traffic  Page_Rank  Google_Index  \\\n",
      "0             -1         -1           -1         -1             1   \n",
      "1             -1         -1            0         -1             1   \n",
      "2              1         -1            1         -1             1   \n",
      "3             -1         -1            1         -1             1   \n",
      "4             -1         -1            0         -1             1   \n",
      "\n",
      "   Links_pointing_to_page  Statistical_report  \n",
      "0                       1                  -1  \n",
      "1                       1                   1  \n",
      "2                       0                  -1  \n",
      "3                      -1                   1  \n",
      "4                       1                   1  \n",
      "\n",
      "[5 rows x 30 columns]\n"
     ]
    }
   ],
   "execution_count": 21
  }
 ],
 "metadata": {
  "kernelspec": {
   "display_name": "Python 3",
   "language": "python",
   "name": "python3"
  },
  "language_info": {
   "codemirror_mode": {
    "name": "ipython",
    "version": 2
   },
   "file_extension": ".py",
   "mimetype": "text/x-python",
   "name": "python",
   "nbconvert_exporter": "python",
   "pygments_lexer": "ipython2",
   "version": "2.7.6"
  }
 },
 "nbformat": 4,
 "nbformat_minor": 5
}
